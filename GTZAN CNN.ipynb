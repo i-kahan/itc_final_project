{
 "cells": [
  {
   "cell_type": "code",
   "execution_count": null,
   "metadata": {
    "ExecuteTime": {
     "end_time": "2021-10-06T11:03:38.151545Z",
     "start_time": "2021-10-06T11:03:34.501676Z"
    }
   },
   "outputs": [],
   "source": [
    "!pip install opencv-python"
   ]
  },
  {
   "cell_type": "code",
   "execution_count": null,
   "metadata": {
    "ExecuteTime": {
     "end_time": "2021-10-06T11:03:41.608212Z",
     "start_time": "2021-10-06T11:03:38.156543Z"
    }
   },
   "outputs": [],
   "source": [
    "import pandas as pd\n",
    "import numpy as np\n",
    "from tensorflow.keras.layers.experimental import preprocessing\n",
    "from tensorflow import keras\n",
    "from tensorflow.keras import layers\n",
    "import os\n",
    "import glob\n",
    "import cv2"
   ]
  },
  {
   "cell_type": "markdown",
   "metadata": {},
   "source": [
    "# Splitting dataset (splitting paths leading to images)"
   ]
  },
  {
   "cell_type": "markdown",
   "metadata": {},
   "source": [
    "## creating dataset with paths to spectograms"
   ]
  },
  {
   "cell_type": "code",
   "execution_count": null,
   "metadata": {
    "ExecuteTime": {
     "end_time": "2021-10-06T11:03:41.623435Z",
     "start_time": "2021-10-06T11:03:41.610220Z"
    }
   },
   "outputs": [],
   "source": [
    "# specify path to spectogram images\n",
    "PATH = r\"C:\\Users\\Ilan\\Documents\\ITC\\11.Final_Project\\2. Dataset 2\\Data\\images_original\""
   ]
  },
  {
   "cell_type": "code",
   "execution_count": null,
   "metadata": {
    "ExecuteTime": {
     "end_time": "2021-10-06T12:20:02.561582Z",
     "start_time": "2021-10-06T12:20:02.551809Z"
    }
   },
   "outputs": [],
   "source": [
    "PATH"
   ]
  },
  {
   "cell_type": "code",
   "execution_count": null,
   "metadata": {
    "ExecuteTime": {
     "end_time": "2021-10-06T11:03:41.639472Z",
     "start_time": "2021-10-06T11:03:41.625221Z"
    }
   },
   "outputs": [],
   "source": [
    "genres = os.listdir(PATH)"
   ]
  },
  {
   "cell_type": "code",
   "execution_count": null,
   "metadata": {
    "ExecuteTime": {
     "end_time": "2021-10-06T11:03:41.670774Z",
     "start_time": "2021-10-06T11:03:41.642481Z"
    }
   },
   "outputs": [],
   "source": [
    "# getting path of all file names in directories\n",
    "files = {}\n",
    "for genre in genres:\n",
    "    files[genre] = glob.glob(fr\"{PATH}\\{genre}\\*png\")"
   ]
  },
  {
   "cell_type": "code",
   "execution_count": null,
   "metadata": {
    "ExecuteTime": {
     "end_time": "2021-10-06T11:03:41.734789Z",
     "start_time": "2021-10-06T11:03:41.678784Z"
    }
   },
   "outputs": [],
   "source": [
    "# creating dataframe wit paths\n",
    "df = pd.DataFrame(columns = ['path', 'rgb_data', 'label'])\n",
    "for genre in genres:\n",
    "    df_aux = pd.DataFrame(files[genre], columns = ['path'])\n",
    "    df_aux['label'] = genre\n",
    "    df = df.append(df_aux, ignore_index=True, sort=False)\n",
    "\n",
    "# verifying number of rows\n",
    "df['label'].value_counts()"
   ]
  },
  {
   "cell_type": "code",
   "execution_count": null,
   "metadata": {
    "ExecuteTime": {
     "end_time": "2021-10-06T11:03:45.408502Z",
     "start_time": "2021-10-06T11:03:41.736787Z"
    }
   },
   "outputs": [],
   "source": [
    "#getting rgb data for all images\n",
    "for index in df.index:\n",
    "    img = cv2.imread(df['path'].loc[index])\n",
    "    img = cv2.cvtColor(img, cv2.COLOR_BGR2RGB)\n",
    "    #df['rgb_data'].loc[index] = np.array(cv2.cvtColor(img, cv2.COLOR_BGR2RGB), dtype=np.uint8)\n",
    "    df['rgb_data'].loc[index] = np.asarray(img).astype('float32')"
   ]
  },
  {
   "cell_type": "code",
   "execution_count": null,
   "metadata": {
    "ExecuteTime": {
     "end_time": "2021-10-06T11:03:56.160128Z",
     "start_time": "2021-10-06T11:03:45.411403Z"
    }
   },
   "outputs": [],
   "source": [
    "df.head()"
   ]
  },
  {
   "cell_type": "code",
   "execution_count": null,
   "metadata": {
    "ExecuteTime": {
     "end_time": "2021-10-06T11:03:57.212549Z",
     "start_time": "2021-10-06T11:03:56.163131Z"
    }
   },
   "outputs": [],
   "source": [
    "from sklearn.preprocessing import LabelEncoder"
   ]
  },
  {
   "cell_type": "code",
   "execution_count": null,
   "metadata": {
    "ExecuteTime": {
     "end_time": "2021-10-06T11:03:57.228325Z",
     "start_time": "2021-10-06T11:03:57.217328Z"
    }
   },
   "outputs": [],
   "source": [
    "# encoding label\n",
    "le = LabelEncoder()\n",
    "le.fit(genres)\n",
    "df['label_encoded'] = le.transform(df['label'])"
   ]
  },
  {
   "cell_type": "code",
   "execution_count": null,
   "metadata": {
    "ExecuteTime": {
     "end_time": "2021-10-06T11:03:57.243335Z",
     "start_time": "2021-10-06T11:03:57.232336Z"
    }
   },
   "outputs": [],
   "source": [
    "df['label_encoded']"
   ]
  },
  {
   "cell_type": "markdown",
   "metadata": {},
   "source": [
    "## splitting dataset"
   ]
  },
  {
   "cell_type": "code",
   "execution_count": null,
   "metadata": {
    "ExecuteTime": {
     "end_time": "2021-10-06T12:10:31.386715Z",
     "start_time": "2021-10-06T12:10:31.376593Z"
    }
   },
   "outputs": [],
   "source": [
    "from sklearn.model_selection import train_test_split"
   ]
  },
  {
   "cell_type": "code",
   "execution_count": null,
   "metadata": {
    "ExecuteTime": {
     "end_time": "2021-10-06T12:10:32.516503Z",
     "start_time": "2021-10-06T12:10:31.391423Z"
    }
   },
   "outputs": [],
   "source": [
    "#defining X and y\n",
    "X = [data for data in df['rgb_data']]\n",
    "X = np.array(X)\n",
    "y = np.array(df['label_encoded'])\n",
    "\n",
    "#splitting data and stratifying by y\n",
    "X_train, X_test, y_train, y_test = train_test_split(X, y, test_size=0.2, random_state=42, stratify=y)"
   ]
  },
  {
   "cell_type": "markdown",
   "metadata": {},
   "source": [
    "# Modelling"
   ]
  },
  {
   "cell_type": "code",
   "execution_count": null,
   "metadata": {
    "ExecuteTime": {
     "end_time": "2021-10-06T12:10:32.531757Z",
     "start_time": "2021-10-06T12:10:32.519759Z"
    }
   },
   "outputs": [],
   "source": [
    "shape_of_input = df['rgb_data'][0].shape\n",
    "shape_of_input"
   ]
  },
  {
   "cell_type": "code",
   "execution_count": null,
   "metadata": {
    "ExecuteTime": {
     "end_time": "2021-10-06T12:10:32.764479Z",
     "start_time": "2021-10-06T12:10:32.536757Z"
    }
   },
   "outputs": [],
   "source": [
    "model = keras.Sequential([\n",
    "    layers.Rescaling(1 / 255, input_shape=shape_of_input),\n",
    "    \n",
    "    layers.Conv2D(8, kernel_size=(3, 3), strides=(1, 1), activation='relu'),\n",
    "    layers.BatchNormalization(axis=3),\n",
    "    layers.MaxPooling2D((2,2)),\n",
    "    \n",
    "    layers.Conv2D(16, kernel_size=(3, 3), strides=(1, 1), activation='relu'),\n",
    "    layers.BatchNormalization(axis=3),\n",
    "    layers.MaxPooling2D((2,2)),\n",
    "    \n",
    "    layers.Conv2D(32, kernel_size=(3, 3), strides=(1, 1), activation='relu'),\n",
    "    layers.BatchNormalization(axis=3),\n",
    "    layers.MaxPooling2D((2,2)),\n",
    "    \n",
    "    layers.Conv2D(64, kernel_size=(3, 3), strides=(1, 1), activation='relu'),\n",
    "    layers.BatchNormalization(axis=-1),\n",
    "    layers.MaxPooling2D((2,2)),\n",
    "    \n",
    "    layers.Conv2D(128, kernel_size=(3, 3), strides=(1, 1), activation='relu'),\n",
    "    layers.BatchNormalization(axis=-1),\n",
    "    layers.MaxPooling2D((2,2)),\n",
    "\n",
    "    layers.Flatten(),\n",
    "    \n",
    "    layers.Dropout(rate=0.3),\n",
    "    \n",
    "    layers.Dense(len(genres), activation='softmax')\n",
    "])"
   ]
  },
  {
   "cell_type": "code",
   "execution_count": null,
   "metadata": {
    "ExecuteTime": {
     "end_time": "2021-10-06T12:10:32.780104Z",
     "start_time": "2021-10-06T12:10:32.766488Z"
    }
   },
   "outputs": [],
   "source": [
    "print(f'Model input shape: {model.input_shape}, Model output shape: {model.output_shape}')"
   ]
  },
  {
   "cell_type": "code",
   "execution_count": null,
   "metadata": {
    "ExecuteTime": {
     "end_time": "2021-10-06T12:10:32.810784Z",
     "start_time": "2021-10-06T12:10:32.783490Z"
    }
   },
   "outputs": [],
   "source": [
    "print(model.summary())"
   ]
  },
  {
   "cell_type": "code",
   "execution_count": null,
   "metadata": {
    "ExecuteTime": {
     "end_time": "2021-10-06T12:45:11.483914Z",
     "start_time": "2021-10-06T12:27:03.555954Z"
    }
   },
   "outputs": [],
   "source": [
    "model.compile(loss = 'sparse_categorical_crossentropy', optimizer = 'adam', metrics = 'accuracy')\n",
    "model.fit(X_train, y_train, validation_split=0.1, batch_size=16, epochs=100)"
   ]
  },
  {
   "cell_type": "code",
   "execution_count": null,
   "metadata": {
    "ExecuteTime": {
     "end_time": "2021-10-06T12:22:29.091439Z",
     "start_time": "2021-10-06T12:22:29.079511Z"
    }
   },
   "outputs": [],
   "source": [
    "y_train.shape"
   ]
  },
  {
   "cell_type": "code",
   "execution_count": null,
   "metadata": {
    "ExecuteTime": {
     "end_time": "2021-10-06T12:23:38.520347Z",
     "start_time": "2021-10-06T12:22:40.869Z"
    }
   },
   "outputs": [],
   "source": [
    "y_train"
   ]
  }
 ],
 "metadata": {
  "kernelspec": {
   "display_name": "Python 3",
   "language": "python",
   "name": "python3"
  },
  "language_info": {
   "codemirror_mode": {
    "name": "ipython",
    "version": 3
   },
   "file_extension": ".py",
   "mimetype": "text/x-python",
   "name": "python",
   "nbconvert_exporter": "python",
   "pygments_lexer": "ipython3",
   "version": "3.8.5"
  },
  "toc": {
   "base_numbering": 1,
   "nav_menu": {},
   "number_sections": true,
   "sideBar": true,
   "skip_h1_title": false,
   "title_cell": "Table of Contents",
   "title_sidebar": "Contents",
   "toc_cell": false,
   "toc_position": {},
   "toc_section_display": true,
   "toc_window_display": false
  },
  "varInspector": {
   "cols": {
    "lenName": 16,
    "lenType": 16,
    "lenVar": 40
   },
   "kernels_config": {
    "python": {
     "delete_cmd_postfix": "",
     "delete_cmd_prefix": "del ",
     "library": "var_list.py",
     "varRefreshCmd": "print(var_dic_list())"
    },
    "r": {
     "delete_cmd_postfix": ") ",
     "delete_cmd_prefix": "rm(",
     "library": "var_list.r",
     "varRefreshCmd": "cat(var_dic_list()) "
    }
   },
   "types_to_exclude": [
    "module",
    "function",
    "builtin_function_or_method",
    "instance",
    "_Feature"
   ],
   "window_display": false
  }
 },
 "nbformat": 4,
 "nbformat_minor": 4
}
